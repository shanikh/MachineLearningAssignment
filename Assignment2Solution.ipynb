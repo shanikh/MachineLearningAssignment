{
 "cells": [
  {
   "cell_type": "code",
   "execution_count": 2,
   "metadata": {},
   "outputs": [
    {
     "name": "stdout",
     "output_type": "stream",
     "text": [
      "12\n"
     ]
    }
   ],
   "source": [
    "#custome reduce function\n",
    "def do_sum(x1, x2): \n",
    "    return x1 + x2\n",
    "\n",
    "def my_reduce(fun, ls):\n",
    "    res = ls[0]\n",
    "    for i in ls[1:]:\n",
    "        res = fun(res,i)\n",
    "    return res\n",
    "\n",
    "print(my_reduce(do_sum, [1, 2, 3, 4,1,1]))"
   ]
  },
  {
   "cell_type": "code",
   "execution_count": 1,
   "metadata": {},
   "outputs": [
    {
     "name": "stdout",
     "output_type": "stream",
     "text": [
      "[2, 4, 6, 8, 10]\n"
     ]
    }
   ],
   "source": [
    "#custome filter function\n",
    "def my_filter(func,sequence):\n",
    "    res=[]\n",
    "    for variable in sequence :\n",
    "        if func(variable):\n",
    "            res.append(variable)\n",
    "    return res\n",
    "\n",
    "def is_even(item):\n",
    "    if item%2==0 :\n",
    "        return True\n",
    "    else :\n",
    "        return False\n",
    "\n",
    "\n",
    "\n",
    "seq=[1,2,3,4,5,6,7,8,9,10]\n",
    "print(my_filter(is_even,seq))"
   ]
  },
  {
   "cell_type": "code",
   "execution_count": 3,
   "metadata": {},
   "outputs": [
    {
     "name": "stdout",
     "output_type": "stream",
     "text": [
      "Longest\n"
     ]
    }
   ],
   "source": [
    "#Longest word\n",
    "def find_longest_word(words_list):  \n",
    "    word_len = []\n",
    "    for n in words_list:  \n",
    "        word_len.append((len(n), n))  \n",
    "    word_len.sort()  \n",
    "    return word_len[-1][1]  \n",
    "  \n",
    "print(find_longest_word([\"THis\", \"is\", \"a\",\"TEST\",\"For\",\"Longest\",\"word\"]))  "
   ]
  },
  {
   "cell_type": "code",
   "execution_count": 4,
   "metadata": {},
   "outputs": [],
   "source": [
    "class Polygon:\n",
    "    def __init__(self, no_of_sides):\n",
    "        self.n = no_of_sides\n",
    "        self.sides = [0 for i in range(no_of_sides)]\n",
    "    def inputSides(self):\n",
    "        self.sides = [float(input(\"Enter side \"+str(i+1)+\" : \")) for i in range(self.n)]\n",
    "    def dispSides(self):\n",
    "        for i in range(self.n):\n",
    "            print(\"Side\",i+1,\"is\",self.sides[i])\n",
    "            \n",
    "\n",
    "class Triangle(Polygon):\n",
    "    def __init__(self):\n",
    "        Polygon.__init__(self,3)\n",
    "    def findArea(self):\n",
    "        a, b, c = self.sides\n",
    "        s = (a + b + c) / 2\n",
    "        area = (s*(s-a)*(s-b)*(s-c)) ** 0.5\n",
    "        print('The area of the triangle is %0.2f' %area)"
   ]
  },
  {
   "cell_type": "code",
   "execution_count": 5,
   "metadata": {},
   "outputs": [
    {
     "name": "stdout",
     "output_type": "stream",
     "text": [
      "Enter side 1 : 1\n",
      "Enter side 2 : 2\n",
      "Enter side 3 : 3\n",
      "Side 1 is 1.0\n",
      "Side 2 is 2.0\n",
      "Side 3 is 3.0\n",
      "The area of the triangle is 0.00\n"
     ]
    }
   ],
   "source": [
    "t1 = Triangle()\n",
    "t1.inputSides()\n",
    "t1.dispSides()\n",
    "t1.findArea()"
   ]
  },
  {
   "cell_type": "code",
   "execution_count": 9,
   "metadata": {},
   "outputs": [
    {
     "name": "stdout",
     "output_type": "stream",
     "text": [
      "['quick', 'brown', 'jumps', 'over', 'lazy']\n"
     ]
    }
   ],
   "source": [
    "#longest word\n",
    "def long_words(n, str):  \n",
    "    word_len = []  \n",
    "    txt = str.split(\" \")  \n",
    "    for x in txt:  \n",
    "        if len(x) > n:  \n",
    "            word_len.append(x)  \n",
    "    return word_len   \n",
    "print(long_words(3, \"The quick brown fox jumps over the lazy dog\")) "
   ]
  },
  {
   "cell_type": "code",
   "execution_count": 10,
   "metadata": {},
   "outputs": [
    {
     "name": "stdout",
     "output_type": "stream",
     "text": [
      "[4, 2, 1, 4, 3, 7, 4]\n"
     ]
    }
   ],
   "source": [
    "#return word length\n",
    "def list_word(words_list):  \n",
    "    word_len = []\n",
    "    for n in words_list:  \n",
    "        word_len.append(len(n)) \n",
    "    return word_len  \n",
    "  \n",
    "print(list_word([\"THis\", \"is\", \"a\",\"TEST\",\"For\",\"Longest\",\"word\"])) "
   ]
  },
  {
   "cell_type": "code",
   "execution_count": 11,
   "metadata": {},
   "outputs": [
    {
     "name": "stdout",
     "output_type": "stream",
     "text": [
      "True\n",
      "False\n",
      "False\n",
      "True\n"
     ]
    }
   ],
   "source": [
    "#vowel test\n",
    "def is_vowel(char):\n",
    "    return 'aeiou'.__contains__(char.lower())\n",
    "\n",
    "print(is_vowel('e'))\n",
    "print(is_vowel('r'))\n",
    "print(is_vowel('g'))\n",
    "print(is_vowel('i'))"
   ]
  },
  {
   "cell_type": "code",
   "execution_count": null,
   "metadata": {},
   "outputs": [],
   "source": []
  }
 ],
 "metadata": {
  "kernelspec": {
   "display_name": "Python 3",
   "language": "python",
   "name": "python3"
  },
  "language_info": {
   "codemirror_mode": {
    "name": "ipython",
    "version": 3
   },
   "file_extension": ".py",
   "mimetype": "text/x-python",
   "name": "python",
   "nbconvert_exporter": "python",
   "pygments_lexer": "ipython3",
   "version": "3.7.4"
  }
 },
 "nbformat": 4,
 "nbformat_minor": 2
}
