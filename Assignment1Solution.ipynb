{
 "cells": [
  {
   "cell_type": "code",
   "execution_count": null,
   "metadata": {},
   "outputs": [],
   "source": [
    "#Numbers divisible by 7 but are not a multiple of 5, between 2000 and 3200 (both included)\n",
    "listnum = [];\n",
    "for i in range(2000,3201):\n",
    "         if(i%7==0 and i%5 != 0):\n",
    "            {\n",
    "             listnum.append(i)\n",
    "         }\n",
    "print(listnum)"
   ]
  },
  {
   "cell_type": "code",
   "execution_count": null,
   "metadata": {},
   "outputs": [],
   "source": [
    "#reverse order\n",
    "firstName = input(\"Enter your First name : \")\n",
    "lastName = input(\"Enter your Last name : \") \n",
    "print(firstName[::-1] +\" \"+lastName[::-1])\n",
    "#print(lastName + \" \"+firstName) Not Sure whetether to print in reverse or just change the order"
   ]
  },
  {
   "cell_type": "code",
   "execution_count": null,
   "metadata": {},
   "outputs": [],
   "source": [
    "# volume of a sphere\n",
    "pi = 3.1415926535897931\n",
    "r= 6.0 #Diameter is 12 so radius will be 6\n",
    "V= 4.0/3.0*pi* r**3\n",
    "print('The volume of the sphere is: ',V)"
   ]
  },
  {
   "cell_type": "code",
   "execution_count": null,
   "metadata": {},
   "outputs": [],
   "source": [
    "#accepts a sequence of comma-separated numbers\n",
    "Numbers = input(\"Enter Numbers \").split(',')\n",
    "print(Numbers)"
   ]
  },
  {
   "cell_type": "code",
   "execution_count": null,
   "metadata": {},
   "outputs": [],
   "source": [
    "#Pattern\n",
    "for i in range (0, 5):\n",
    "    for j in range(0, i + 1):\n",
    "        print(\"*\", end=' ')\n",
    "    print(\"\\r\")\n",
    "\n",
    "for i in range (5, 0, -1):\n",
    "    for j in range(0, i -1):\n",
    "        print(\"*\", end=' ')\n",
    "    print(\"\\r\")"
   ]
  },
  {
   "cell_type": "code",
   "execution_count": null,
   "metadata": {},
   "outputs": [],
   "source": [
    "#reverse a word after accepting the input from the user\n",
    "word = input(\"Enter a word : \")\n",
    "print(word[::-1])"
   ]
  },
  {
   "cell_type": "code",
   "execution_count": null,
   "metadata": {},
   "outputs": [],
   "source": [
    "x=' ';\n",
    "print(\"WE, THE PEOPLE OF INDIA,\\n \"+5*x+\"having solemnly resolved to constitute India into a SOVEREIGN,! \\n\"+13*x+\"SOCIALIST, SECULAR, DEMOCRATIC REPUBLIC \\n\" +14*x+\"and to secure to all its citizens\")"
   ]
  }
 ],
 "metadata": {
  "kernelspec": {
   "display_name": "Python 3",
   "language": "python",
   "name": "python3"
  },
  "language_info": {
   "codemirror_mode": {
    "name": "ipython",
    "version": 3
   },
   "file_extension": ".py",
   "mimetype": "text/x-python",
   "name": "python",
   "nbconvert_exporter": "python",
   "pygments_lexer": "ipython3",
   "version": "3.7.4"
  }
 },
 "nbformat": 4,
 "nbformat_minor": 2
}
